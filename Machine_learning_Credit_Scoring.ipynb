{
 "cells": [
  {
   "cell_type": "markdown",
   "metadata": {},
   "source": [
    "# Projeto de credit Scoring"
   ]
  },
  {
   "cell_type": "code",
   "execution_count": null,
   "metadata": {
    "id": "1RreL0h-zpJh"
   },
   "outputs": [],
   "source": [
    "import pandas as pd"
   ]
  },
  {
   "cell_type": "code",
   "execution_count": null,
   "metadata": {
    "colab": {
     "base_uri": "https://localhost:8080/",
     "height": 428
    },
    "id": "BIsR54l127OA",
    "outputId": "f8669022-1b0b-4a6d-f357-8efc4b488b26"
   },
   "outputs": [
    {
     "data": {
      "text/html": [
       "<div>\n",
       "<style scoped>\n",
       "    .dataframe tbody tr th:only-of-type {\n",
       "        vertical-align: middle;\n",
       "    }\n",
       "\n",
       "    .dataframe tbody tr th {\n",
       "        vertical-align: top;\n",
       "    }\n",
       "\n",
       "    .dataframe thead th {\n",
       "        text-align: right;\n",
       "    }\n",
       "</style>\n",
       "<table border=\"1\" class=\"dataframe\">\n",
       "  <thead>\n",
       "    <tr style=\"text-align: right;\">\n",
       "      <th></th>\n",
       "      <th>default</th>\n",
       "      <th>conta_corrente</th>\n",
       "      <th>prazo_emprestimo_meses</th>\n",
       "      <th>historico_credito</th>\n",
       "      <th>proposito_emprestimo</th>\n",
       "      <th>valor_emprestimo</th>\n",
       "      <th>reserva_cc</th>\n",
       "      <th>tempo_emprego_atual</th>\n",
       "      <th>taxa_comp_salario</th>\n",
       "      <th>sexo_est_civil</th>\n",
       "      <th>outros_fiadores</th>\n",
       "      <th>anos_residencia_atual</th>\n",
       "      <th>propriedade</th>\n",
       "      <th>idade</th>\n",
       "      <th>outros_planos_financiamento</th>\n",
       "      <th>tipo_residencia</th>\n",
       "      <th>n_creditos_banco</th>\n",
       "      <th>status_emprego</th>\n",
       "      <th>n_dependentes</th>\n",
       "      <th>telefone</th>\n",
       "      <th>trabalhador_estrangeiro</th>\n",
       "    </tr>\n",
       "  </thead>\n",
       "  <tbody>\n",
       "    <tr>\n",
       "      <th>0</th>\n",
       "      <td>0</td>\n",
       "      <td>&lt; 0 DM</td>\n",
       "      <td>6</td>\n",
       "      <td>critical account/ other credits existing (not ...</td>\n",
       "      <td>domestic appliances</td>\n",
       "      <td>1169</td>\n",
       "      <td>unknown/ no savings account</td>\n",
       "      <td>.. &gt;= 7 years</td>\n",
       "      <td>4</td>\n",
       "      <td>male : single</td>\n",
       "      <td>none</td>\n",
       "      <td>4</td>\n",
       "      <td>real estate</td>\n",
       "      <td>67</td>\n",
       "      <td>none</td>\n",
       "      <td>own</td>\n",
       "      <td>2</td>\n",
       "      <td>skilled employee / official</td>\n",
       "      <td>1</td>\n",
       "      <td>yes, registered under the customers name</td>\n",
       "      <td>yes</td>\n",
       "    </tr>\n",
       "    <tr>\n",
       "      <th>1</th>\n",
       "      <td>1</td>\n",
       "      <td>0 &lt;= ... &lt; 200 DM</td>\n",
       "      <td>48</td>\n",
       "      <td>existing credits paid back duly till now</td>\n",
       "      <td>domestic appliances</td>\n",
       "      <td>5951</td>\n",
       "      <td>... &lt; 100 DM</td>\n",
       "      <td>1 &lt;= ... &lt; 4 years</td>\n",
       "      <td>2</td>\n",
       "      <td>female : divorced/separated/married</td>\n",
       "      <td>none</td>\n",
       "      <td>2</td>\n",
       "      <td>real estate</td>\n",
       "      <td>22</td>\n",
       "      <td>none</td>\n",
       "      <td>own</td>\n",
       "      <td>1</td>\n",
       "      <td>skilled employee / official</td>\n",
       "      <td>1</td>\n",
       "      <td>none</td>\n",
       "      <td>yes</td>\n",
       "    </tr>\n",
       "    <tr>\n",
       "      <th>2</th>\n",
       "      <td>0</td>\n",
       "      <td>no checking account</td>\n",
       "      <td>12</td>\n",
       "      <td>critical account/ other credits existing (not ...</td>\n",
       "      <td>(vacation - does not exist?)</td>\n",
       "      <td>2096</td>\n",
       "      <td>... &lt; 100 DM</td>\n",
       "      <td>4 &lt;= ... &lt; 7 years</td>\n",
       "      <td>2</td>\n",
       "      <td>male : single</td>\n",
       "      <td>none</td>\n",
       "      <td>3</td>\n",
       "      <td>real estate</td>\n",
       "      <td>49</td>\n",
       "      <td>none</td>\n",
       "      <td>own</td>\n",
       "      <td>1</td>\n",
       "      <td>unskilled - resident</td>\n",
       "      <td>2</td>\n",
       "      <td>none</td>\n",
       "      <td>yes</td>\n",
       "    </tr>\n",
       "    <tr>\n",
       "      <th>3</th>\n",
       "      <td>0</td>\n",
       "      <td>&lt; 0 DM</td>\n",
       "      <td>42</td>\n",
       "      <td>existing credits paid back duly till now</td>\n",
       "      <td>radio/television</td>\n",
       "      <td>7882</td>\n",
       "      <td>... &lt; 100 DM</td>\n",
       "      <td>4 &lt;= ... &lt; 7 years</td>\n",
       "      <td>2</td>\n",
       "      <td>male : single</td>\n",
       "      <td>guarantor</td>\n",
       "      <td>4</td>\n",
       "      <td>if not A121 : building society savings agreeme...</td>\n",
       "      <td>45</td>\n",
       "      <td>none</td>\n",
       "      <td>for free</td>\n",
       "      <td>1</td>\n",
       "      <td>skilled employee / official</td>\n",
       "      <td>2</td>\n",
       "      <td>none</td>\n",
       "      <td>yes</td>\n",
       "    </tr>\n",
       "    <tr>\n",
       "      <th>4</th>\n",
       "      <td>1</td>\n",
       "      <td>&lt; 0 DM</td>\n",
       "      <td>24</td>\n",
       "      <td>delay in paying off in the past</td>\n",
       "      <td>car (new)</td>\n",
       "      <td>4870</td>\n",
       "      <td>... &lt; 100 DM</td>\n",
       "      <td>1 &lt;= ... &lt; 4 years</td>\n",
       "      <td>3</td>\n",
       "      <td>male : single</td>\n",
       "      <td>none</td>\n",
       "      <td>4</td>\n",
       "      <td>unknown / no property</td>\n",
       "      <td>53</td>\n",
       "      <td>none</td>\n",
       "      <td>for free</td>\n",
       "      <td>2</td>\n",
       "      <td>skilled employee / official</td>\n",
       "      <td>2</td>\n",
       "      <td>none</td>\n",
       "      <td>yes</td>\n",
       "    </tr>\n",
       "  </tbody>\n",
       "</table>\n",
       "</div>"
      ],
      "text/plain": [
       "   default  ... trabalhador_estrangeiro\n",
       "0        0  ...                     yes\n",
       "1        1  ...                     yes\n",
       "2        0  ...                     yes\n",
       "3        0  ...                     yes\n",
       "4        1  ...                     yes\n",
       "\n",
       "[5 rows x 21 columns]"
      ]
     },
     "execution_count": 2,
     "metadata": {
      "tags": []
     },
     "output_type": "execute_result"
    }
   ],
   "source": [
    "\n",
    "url='https://raw.githubusercontent.com/alura-cursos/credit_scoring/main/base_dados_traduzida.csv'\n",
    "dados = pd.read_csv(url)\n",
    "dados.head()"
   ]
  },
  {
   "cell_type": "code",
   "execution_count": null,
   "metadata": {
    "colab": {
     "base_uri": "https://localhost:8080/"
    },
    "id": "jjPeXlbn3Ux9",
    "outputId": "3709cb51-456a-4b2d-dd87-470c5016d5b8"
   },
   "outputs": [
    {
     "name": "stdout",
     "output_type": "stream",
     "text": [
      "<class 'pandas.core.frame.DataFrame'>\n",
      "RangeIndex: 1000 entries, 0 to 999\n",
      "Data columns (total 21 columns):\n",
      " #   Column                       Non-Null Count  Dtype \n",
      "---  ------                       --------------  ----- \n",
      " 0   default                      1000 non-null   int64 \n",
      " 1   conta_corrente               1000 non-null   object\n",
      " 2   prazo_emprestimo_meses       1000 non-null   int64 \n",
      " 3   historico_credito            1000 non-null   object\n",
      " 4   proposito_emprestimo         1000 non-null   object\n",
      " 5   valor_emprestimo             1000 non-null   int64 \n",
      " 6   reserva_cc                   1000 non-null   object\n",
      " 7   tempo_emprego_atual          1000 non-null   object\n",
      " 8   taxa_comp_salario            1000 non-null   int64 \n",
      " 9   sexo_est_civil               1000 non-null   object\n",
      " 10  outros_fiadores              1000 non-null   object\n",
      " 11  anos_residencia_atual        1000 non-null   int64 \n",
      " 12  propriedade                  1000 non-null   object\n",
      " 13  idade                        1000 non-null   int64 \n",
      " 14  outros_planos_financiamento  1000 non-null   object\n",
      " 15  tipo_residencia              1000 non-null   object\n",
      " 16  n_creditos_banco             1000 non-null   int64 \n",
      " 17  status_emprego               1000 non-null   object\n",
      " 18  n_dependentes                1000 non-null   int64 \n",
      " 19  telefone                     1000 non-null   object\n",
      " 20  trabalhador_estrangeiro      1000 non-null   object\n",
      "dtypes: int64(8), object(13)\n",
      "memory usage: 164.2+ KB\n"
     ]
    }
   ],
   "source": [
    "dados.info()"
   ]
  },
  {
   "cell_type": "code",
   "execution_count": null,
   "metadata": {
    "colab": {
     "base_uri": "https://localhost:8080/"
    },
    "id": "tntp63a23dRU",
    "outputId": "e98a6d33-f556-49ef-f054-fb5fe8ddd758"
   },
   "outputs": [
    {
     "name": "stdout",
     "output_type": "stream",
     "text": [
      "A base de dados tem 1000 linhas e 21 colunas.\n"
     ]
    }
   ],
   "source": [
    "linhas = dados.shape[0]\n",
    "colunas = dados.shape[1]\n",
    "\n",
    "print('A base de dados tem %s linhas e %s colunas.'%(linhas, colunas))\n"
   ]
  },
  {
   "cell_type": "code",
   "execution_count": null,
   "metadata": {
    "colab": {
     "base_uri": "https://localhost:8080/"
    },
    "id": "0630E5MJ4U6S",
    "outputId": "5ced5325-2cae-4b96-d7fb-347ffaf9f708"
   },
   "outputs": [
    {
     "name": "stdout",
     "output_type": "stream",
     "text": [
      "A base de dados tem 0 dados duplicados.\n"
     ]
    }
   ],
   "source": [
    "duplicados = dados.duplicated()\n",
    "duplicados = duplicados.sum()\n",
    "print('A base de dados tem %s dados duplicados.'%(duplicados))"
   ]
  },
  {
   "cell_type": "code",
   "execution_count": null,
   "metadata": {
    "colab": {
     "base_uri": "https://localhost:8080/"
    },
    "id": "oseQyqu-47Sj",
    "outputId": "38e2100b-2f0d-43a0-b879-a6c6a773d836"
   },
   "outputs": [
    {
     "data": {
      "text/plain": [
       "default                        0\n",
       "conta_corrente                 0\n",
       "prazo_emprestimo_meses         0\n",
       "historico_credito              0\n",
       "proposito_emprestimo           0\n",
       "valor_emprestimo               0\n",
       "reserva_cc                     0\n",
       "tempo_emprego_atual            0\n",
       "taxa_comp_salario              0\n",
       "sexo_est_civil                 0\n",
       "outros_fiadores                0\n",
       "anos_residencia_atual          0\n",
       "propriedade                    0\n",
       "idade                          0\n",
       "outros_planos_financiamento    0\n",
       "tipo_residencia                0\n",
       "n_creditos_banco               0\n",
       "status_emprego                 0\n",
       "n_dependentes                  0\n",
       "telefone                       0\n",
       "trabalhador_estrangeiro        0\n",
       "dtype: int64"
      ]
     },
     "execution_count": 6,
     "metadata": {
      "tags": []
     },
     "output_type": "execute_result"
    }
   ],
   "source": [
    "nulos = dados.isnull()\n",
    "nulos.sum()"
   ]
  },
  {
   "cell_type": "code",
   "execution_count": null,
   "metadata": {
    "colab": {
     "base_uri": "https://localhost:8080/"
    },
    "id": "ApGWZ2eg752M",
    "outputId": "8497fd28-1147-482c-b299-33584cfae2c2"
   },
   "outputs": [
    {
     "data": {
      "text/plain": [
       "['< 0 DM',\n",
       " '0 <= ... < 200 DM',\n",
       " 'no checking account',\n",
       " '>= 200 DM / salary assignments for at least 1 year']"
      ]
     },
     "execution_count": 7,
     "metadata": {
      "tags": []
     },
     "output_type": "execute_result"
    }
   ],
   "source": [
    "chave = list(dados.conta_corrente.unique())\n",
    "chave"
   ]
  },
  {
   "cell_type": "code",
   "execution_count": null,
   "metadata": {
    "colab": {
     "base_uri": "https://localhost:8080/"
    },
    "id": "qKsymJ5m-Na_",
    "outputId": "083956ae-b74c-4f80-9b9b-d6ec7d924e43"
   },
   "outputs": [
    {
     "data": {
      "text/plain": [
       "[{'0 <= ... < 200 DM': 2,\n",
       "  '< 0 DM': 1,\n",
       "  '>= 200 DM / salary assignments for at least 1 year': 4,\n",
       "  'no checking account': 3},\n",
       " {'all credits at this bank paid back duly': 5,\n",
       "  'critical account/ other credits existing (not at this bank)': 1,\n",
       "  'delay in paying off in the past': 3,\n",
       "  'existing credits paid back duly till now': 2,\n",
       "  'no credits taken/ all credits paid back duly': 4},\n",
       " {'(vacation - does not exist?)': 2,\n",
       "  'business': 6,\n",
       "  'car (new)': 4,\n",
       "  'car (used)': 5,\n",
       "  'domestic appliances': 1,\n",
       "  'education': 8,\n",
       "  'furniture/equipment': 9,\n",
       "  'radio/television': 3,\n",
       "  'repairs': 7,\n",
       "  'retraining': 10},\n",
       " {'.. >= 1000 DM ': 4,\n",
       "  '... < 100 DM': 2,\n",
       "  '100 <= ... < 500 DM': 5,\n",
       "  '500 <= ... < 1000 DM ': 3,\n",
       "  'unknown/ no savings account': 1},\n",
       " {'.. >= 7 years': 1,\n",
       "  '... < 1 year ': 5,\n",
       "  '1 <= ... < 4 years': 2,\n",
       "  '4 <= ... < 7 years': 3,\n",
       "  'unemployed': 4},\n",
       " {'female : divorced/separated/married': 2,\n",
       "  'male : divorced/separated': 3,\n",
       "  'male : married/widowed': 4,\n",
       "  'male : single': 1},\n",
       " {'co-applicant': 3, 'guarantor': 2, 'none': 1},\n",
       " {'if not A121 : building society savings agreement/ life insurance': 2,\n",
       "  'if not A121/A122 : car or other, not in attribute 6': 4,\n",
       "  'real estate': 1,\n",
       "  'unknown / no property': 3},\n",
       " {'bank': 2, 'none': 1, 'stores': 3},\n",
       " {'for free': 2, 'own': 1, 'rent': 3},\n",
       " {'management/ self-employed/ highly qualified employee/ officer': 3,\n",
       "  'skilled employee / official': 1,\n",
       "  'unemployed/ unskilled - non-resident': 4,\n",
       "  'unskilled - resident': 2},\n",
       " {'none': 2, 'yes, registered under the customers name ': 1},\n",
       " {'no': 2, 'yes': 1}]"
      ]
     },
     "execution_count": 8,
     "metadata": {
      "tags": []
     },
     "output_type": "execute_result"
    }
   ],
   "source": [
    "cols_subs = list(dados.select_dtypes(exclude='number').columns)\n",
    "\n",
    "lista = []\n",
    "\n",
    "for i in cols_subs:\n",
    "  chave = list(dados[i].unique())\n",
    "  n=0\n",
    "  dicionario = {}\n",
    "  for val in chave:\n",
    "    n+=1\n",
    "    dicionario[val]=n\n",
    "  lista.append(dicionario)  \n",
    "lista"
   ]
  },
  {
   "cell_type": "code",
   "execution_count": null,
   "metadata": {
    "id": "AWuXJW35IVCV"
   },
   "outputs": [],
   "source": [
    "# cópia do df\n",
    "dados_normais = dados.copy()"
   ]
  },
  {
   "cell_type": "code",
   "execution_count": null,
   "metadata": {
    "colab": {
     "base_uri": "https://localhost:8080/",
     "height": 224
    },
    "id": "oRU6bC7j1t8V",
    "outputId": "e69c6ac1-ca18-4bb8-f7a1-313e023829cd"
   },
   "outputs": [
    {
     "data": {
      "text/html": [
       "<div>\n",
       "<style scoped>\n",
       "    .dataframe tbody tr th:only-of-type {\n",
       "        vertical-align: middle;\n",
       "    }\n",
       "\n",
       "    .dataframe tbody tr th {\n",
       "        vertical-align: top;\n",
       "    }\n",
       "\n",
       "    .dataframe thead th {\n",
       "        text-align: right;\n",
       "    }\n",
       "</style>\n",
       "<table border=\"1\" class=\"dataframe\">\n",
       "  <thead>\n",
       "    <tr style=\"text-align: right;\">\n",
       "      <th></th>\n",
       "      <th>default</th>\n",
       "      <th>conta_corrente</th>\n",
       "      <th>prazo_emprestimo_meses</th>\n",
       "      <th>historico_credito</th>\n",
       "      <th>proposito_emprestimo</th>\n",
       "      <th>valor_emprestimo</th>\n",
       "      <th>reserva_cc</th>\n",
       "      <th>tempo_emprego_atual</th>\n",
       "      <th>taxa_comp_salario</th>\n",
       "      <th>sexo_est_civil</th>\n",
       "      <th>outros_fiadores</th>\n",
       "      <th>anos_residencia_atual</th>\n",
       "      <th>propriedade</th>\n",
       "      <th>idade</th>\n",
       "      <th>outros_planos_financiamento</th>\n",
       "      <th>tipo_residencia</th>\n",
       "      <th>n_creditos_banco</th>\n",
       "      <th>status_emprego</th>\n",
       "      <th>n_dependentes</th>\n",
       "      <th>telefone</th>\n",
       "      <th>trabalhador_estrangeiro</th>\n",
       "    </tr>\n",
       "  </thead>\n",
       "  <tbody>\n",
       "    <tr>\n",
       "      <th>0</th>\n",
       "      <td>0</td>\n",
       "      <td>1</td>\n",
       "      <td>6</td>\n",
       "      <td>1</td>\n",
       "      <td>1</td>\n",
       "      <td>1169</td>\n",
       "      <td>1</td>\n",
       "      <td>1</td>\n",
       "      <td>4</td>\n",
       "      <td>1</td>\n",
       "      <td>1</td>\n",
       "      <td>4</td>\n",
       "      <td>1</td>\n",
       "      <td>67</td>\n",
       "      <td>1</td>\n",
       "      <td>1</td>\n",
       "      <td>2</td>\n",
       "      <td>1</td>\n",
       "      <td>1</td>\n",
       "      <td>1</td>\n",
       "      <td>1</td>\n",
       "    </tr>\n",
       "    <tr>\n",
       "      <th>1</th>\n",
       "      <td>1</td>\n",
       "      <td>2</td>\n",
       "      <td>48</td>\n",
       "      <td>2</td>\n",
       "      <td>1</td>\n",
       "      <td>5951</td>\n",
       "      <td>2</td>\n",
       "      <td>2</td>\n",
       "      <td>2</td>\n",
       "      <td>2</td>\n",
       "      <td>1</td>\n",
       "      <td>2</td>\n",
       "      <td>1</td>\n",
       "      <td>22</td>\n",
       "      <td>1</td>\n",
       "      <td>1</td>\n",
       "      <td>1</td>\n",
       "      <td>1</td>\n",
       "      <td>1</td>\n",
       "      <td>2</td>\n",
       "      <td>1</td>\n",
       "    </tr>\n",
       "    <tr>\n",
       "      <th>2</th>\n",
       "      <td>0</td>\n",
       "      <td>3</td>\n",
       "      <td>12</td>\n",
       "      <td>1</td>\n",
       "      <td>2</td>\n",
       "      <td>2096</td>\n",
       "      <td>2</td>\n",
       "      <td>3</td>\n",
       "      <td>2</td>\n",
       "      <td>1</td>\n",
       "      <td>1</td>\n",
       "      <td>3</td>\n",
       "      <td>1</td>\n",
       "      <td>49</td>\n",
       "      <td>1</td>\n",
       "      <td>1</td>\n",
       "      <td>1</td>\n",
       "      <td>2</td>\n",
       "      <td>2</td>\n",
       "      <td>2</td>\n",
       "      <td>1</td>\n",
       "    </tr>\n",
       "    <tr>\n",
       "      <th>3</th>\n",
       "      <td>0</td>\n",
       "      <td>1</td>\n",
       "      <td>42</td>\n",
       "      <td>2</td>\n",
       "      <td>3</td>\n",
       "      <td>7882</td>\n",
       "      <td>2</td>\n",
       "      <td>3</td>\n",
       "      <td>2</td>\n",
       "      <td>1</td>\n",
       "      <td>2</td>\n",
       "      <td>4</td>\n",
       "      <td>2</td>\n",
       "      <td>45</td>\n",
       "      <td>1</td>\n",
       "      <td>2</td>\n",
       "      <td>1</td>\n",
       "      <td>1</td>\n",
       "      <td>2</td>\n",
       "      <td>2</td>\n",
       "      <td>1</td>\n",
       "    </tr>\n",
       "    <tr>\n",
       "      <th>4</th>\n",
       "      <td>1</td>\n",
       "      <td>1</td>\n",
       "      <td>24</td>\n",
       "      <td>3</td>\n",
       "      <td>4</td>\n",
       "      <td>4870</td>\n",
       "      <td>2</td>\n",
       "      <td>2</td>\n",
       "      <td>3</td>\n",
       "      <td>1</td>\n",
       "      <td>1</td>\n",
       "      <td>4</td>\n",
       "      <td>3</td>\n",
       "      <td>53</td>\n",
       "      <td>1</td>\n",
       "      <td>2</td>\n",
       "      <td>2</td>\n",
       "      <td>1</td>\n",
       "      <td>2</td>\n",
       "      <td>2</td>\n",
       "      <td>1</td>\n",
       "    </tr>\n",
       "  </tbody>\n",
       "</table>\n",
       "</div>"
      ],
      "text/plain": [
       "   default  conta_corrente  ...  telefone  trabalhador_estrangeiro\n",
       "0        0               1  ...         1                        1\n",
       "1        1               2  ...         2                        1\n",
       "2        0               3  ...         2                        1\n",
       "3        0               1  ...         2                        1\n",
       "4        1               1  ...         2                        1\n",
       "\n",
       "[5 rows x 21 columns]"
      ]
     },
     "execution_count": 10,
     "metadata": {
      "tags": []
     },
     "output_type": "execute_result"
    }
   ],
   "source": [
    "for i,val in zip(cols_subs, lista):\n",
    "  dados[i] = dados[i].map(val)  \n",
    "\n",
    "dados.head()  "
   ]
  },
  {
   "cell_type": "code",
   "execution_count": null,
   "metadata": {
    "colab": {
     "base_uri": "https://localhost:8080/"
    },
    "id": "asGfd_1l5NJr",
    "outputId": "ad38999b-dea0-4b65-9174-8f229ffcaef2"
   },
   "outputs": [
    {
     "data": {
      "text/plain": [
       "0    0\n",
       "1    1\n",
       "2    0\n",
       "3    0\n",
       "4    1\n",
       "Name: default, dtype: int64"
      ]
     },
     "execution_count": 11,
     "metadata": {
      "tags": []
     },
     "output_type": "execute_result"
    }
   ],
   "source": [
    "y = dados['default']\n",
    "y.head()"
   ]
  },
  {
   "cell_type": "code",
   "execution_count": null,
   "metadata": {
    "id": "ksgy5PT47PwT"
   },
   "outputs": [],
   "source": [
    "x = dados.drop(columns='default')"
   ]
  },
  {
   "cell_type": "code",
   "execution_count": null,
   "metadata": {
    "id": "ywQTWflC7c3K"
   },
   "outputs": [],
   "source": [
    "from sklearn.model_selection import train_test_split"
   ]
  },
  {
   "cell_type": "code",
   "execution_count": null,
   "metadata": {
    "id": "E5npdWwX7xib"
   },
   "outputs": [],
   "source": [
    "seed=77\n",
    "treino_x, teste_x, treino_y, teste_y = train_test_split(x,y,test_size = 0.3, random_state=seed)"
   ]
  },
  {
   "cell_type": "code",
   "execution_count": null,
   "metadata": {
    "colab": {
     "base_uri": "https://localhost:8080/"
    },
    "id": "wxSMNanE8T7x",
    "outputId": "6a01ad58-27c4-4b7e-aa5d-ac7d535d417d"
   },
   "outputs": [
    {
     "name": "stdout",
     "output_type": "stream",
     "text": [
      "a base de treino tem 700 e a base de teste tem 300 elemnetos.\n"
     ]
    }
   ],
   "source": [
    "base_treino = treino_x.shape[0]\n",
    "base_teste = teste_x.shape[0]\n",
    "\n",
    "print('a base de treino tem %s e a base de teste tem %s elemnetos.'%(base_treino,base_teste))"
   ]
  },
  {
   "cell_type": "code",
   "execution_count": null,
   "metadata": {
    "id": "6yDAVlri7E2x"
   },
   "outputs": [],
   "source": [
    "from sklearn.linear_model import LogisticRegression"
   ]
  },
  {
   "cell_type": "code",
   "execution_count": null,
   "metadata": {
    "colab": {
     "base_uri": "https://localhost:8080/"
    },
    "id": "nPQ9cq4C5wKV",
    "outputId": "fe37a60e-0936-4367-a77d-ef226f1d012a"
   },
   "outputs": [
    {
     "name": "stdout",
     "output_type": "stream",
     "text": [
      "0.7585714285714286\n"
     ]
    }
   ],
   "source": [
    "modelo = LogisticRegression(max_iter=1000, random_state=seed)\n",
    "modelo.fit(treino_x,treino_y)\n",
    "print(modelo.score(treino_x,treino_y))"
   ]
  },
  {
   "cell_type": "code",
   "execution_count": null,
   "metadata": {
    "colab": {
     "base_uri": "https://localhost:8080/"
    },
    "id": "GhT_FW5z5u9j",
    "outputId": "fcdc74e2-3083-497e-edc7-16bf6a74236e"
   },
   "outputs": [
    {
     "data": {
      "text/plain": [
       "array([0, 0, 0, 1, 0, 0, 1, 0, 0, 0, 0, 0, 0, 0, 1, 0, 0, 0, 0, 1, 0, 0,\n",
       "       0, 0, 0, 0, 0, 0, 0, 0, 0, 0, 0, 0, 0, 0, 0, 1, 0, 0, 1, 0, 0, 1,\n",
       "       1, 0, 0, 0, 0, 0, 0, 0, 1, 0, 0, 1, 0, 0, 1, 1, 0, 0, 0, 0, 0, 0,\n",
       "       1, 0, 1, 0, 0, 0, 1, 0, 0, 1, 1, 0, 1, 0, 1, 1, 1, 0, 0, 0, 0, 0,\n",
       "       0, 0, 0, 1, 0, 0, 0, 0, 1, 0, 0, 1, 0, 0, 1, 0, 0, 0, 0, 0, 0, 0,\n",
       "       0, 1, 0, 0, 0, 0, 0, 0, 0, 0, 0, 1, 0, 1, 0, 0, 0, 1, 0, 0, 0, 1,\n",
       "       0, 1, 1, 0, 0, 0, 0, 0, 0, 0, 0, 0, 1, 1, 1, 0, 0, 0, 0, 1, 0, 0,\n",
       "       0, 1, 0, 0, 0, 0, 0, 0, 0, 0, 1, 0, 1, 0, 0, 0, 0, 0, 0, 0, 0, 0,\n",
       "       0, 0, 0, 1, 0, 0, 1, 0, 0, 0, 0, 0, 0, 0, 0, 0, 0, 1, 0, 0, 0, 1,\n",
       "       1, 0, 0, 0, 0, 0, 0, 1, 0, 0, 0, 0, 0, 0, 0, 0, 0, 0, 0, 0, 0, 0,\n",
       "       0, 0, 0, 0, 0, 0, 0, 1, 0, 1, 0, 0, 0, 0, 1, 0, 0, 0, 0, 1, 0, 0,\n",
       "       0, 0, 0, 1, 0, 1, 0, 1, 0, 0, 0, 1, 0, 0, 0, 1, 0, 0, 0, 0, 0, 0,\n",
       "       0, 0, 0, 1, 0, 0, 1, 0, 0, 0, 0, 1, 0, 0, 0, 0, 0, 0, 0, 0, 0, 0,\n",
       "       0, 0, 0, 0, 1, 0, 0, 0, 1, 0, 0, 0, 1, 0])"
      ]
     },
     "execution_count": 18,
     "metadata": {
      "tags": []
     },
     "output_type": "execute_result"
    }
   ],
   "source": [
    "previsoes = modelo.predict(teste_x)\n",
    "previsoes"
   ]
  },
  {
   "cell_type": "code",
   "execution_count": null,
   "metadata": {
    "id": "zHrX5KEB5lv5"
   },
   "outputs": [],
   "source": [
    "from sklearn.metrics import accuracy_score"
   ]
  },
  {
   "cell_type": "code",
   "execution_count": null,
   "metadata": {
    "colab": {
     "base_uri": "https://localhost:8080/"
    },
    "id": "KMbv4Hgc5k9O",
    "outputId": "1f15f847-16f5-4c26-f2c2-5bcdd71bdf2e"
   },
   "outputs": [
    {
     "data": {
      "text/plain": [
       "76.7"
      ]
     },
     "execution_count": 20,
     "metadata": {
      "tags": []
     },
     "output_type": "execute_result"
    }
   ],
   "source": [
    "acuracia = accuracy_score(teste_y, previsoes)\n",
    "acuracia =round(acuracia, 3)*100\n",
    "acuracia"
   ]
  },
  {
   "cell_type": "code",
   "execution_count": null,
   "metadata": {
    "id": "7CA436yB5j4G"
   },
   "outputs": [],
   "source": [
    "import matplotlib.pyplot as plt\n",
    "from sklearn.metrics import plot_confusion_matrix"
   ]
  },
  {
   "cell_type": "code",
   "execution_count": null,
   "metadata": {
    "colab": {
     "base_uri": "https://localhost:8080/",
     "height": 296
    },
    "id": "N3Drvrhf-cMb",
    "outputId": "ebc6073f-5c2d-4202-f0bc-ef81d023aaeb"
   },
   "outputs": [
    {
     "data": {
      "text/plain": [
       "<sklearn.metrics._plot.confusion_matrix.ConfusionMatrixDisplay at 0x7f0ddda25350>"
      ]
     },
     "execution_count": 22,
     "metadata": {
      "tags": []
     },
     "output_type": "execute_result"
    },
    {
     "data": {
      "image/png": "[encoded data removed]",
      "text/plain": [
       "<Figure size 432x288 with 2 Axes>"
      ]
     },
     "metadata": {
      "needs_background": "light",
      "tags": []
     },
     "output_type": "display_data"
    }
   ],
   "source": [
    "matriz_confusao = plot_confusion_matrix(modelo, teste_x, teste_y, cmap='Blues', values_format='.3g')\n",
    "matriz_confusao"
   ]
  },
  {
   "cell_type": "code",
   "execution_count": null,
   "metadata": {
    "id": "2ve__K-V-5RV"
   },
   "outputs": [],
   "source": [
    "from sklearn.metrics import classification_report"
   ]
  },
  {
   "cell_type": "code",
   "execution_count": null,
   "metadata": {
    "colab": {
     "base_uri": "https://localhost:8080/"
    },
    "id": "QTh_SKPVAShn",
    "outputId": "74f82da2-afbb-49bd-f3eb-35d13eef0711"
   },
   "outputs": [
    {
     "name": "stdout",
     "output_type": "stream",
     "text": [
      "              precision    recall  f1-score   support\n",
      "\n",
      "           0       0.80      0.90      0.85       214\n",
      "           1       0.63      0.44      0.52        86\n",
      "\n",
      "    accuracy                           0.77       300\n",
      "   macro avg       0.72      0.67      0.68       300\n",
      "weighted avg       0.75      0.77      0.75       300\n",
      "\n"
     ]
    }
   ],
   "source": [
    "print(classification_report(teste_y, previsoes))"
   ]
  },
  {
   "cell_type": "markdown",
   "metadata": {
    "id": "hXtUkGBWAuun"
   },
   "source": [
    "Acuracia de de 76.6% significa que a cada 100 casos ele acerta 77\n",
    "\n",
    "Precision = verdadeiros positivos/ ( verdadeiros positivos + falsos positivos) proporção de predições corretas de uma categoria em relação a todas as predições dessa categoria\n",
    "\n",
    "Recall = verdadeiros positivos/ ( verdadeiros positivos + falsos negativos)\n",
    "proporção de predições corretas da categoria alvo similar Sensibilidade\n",
    "\n",
    "f1-score = 2*((Precision*Recall)/(Precision+Recall)) Média harmõnica entre Precicion e Recall, resumo dessas duas métricas\n",
    "\n",
    "Support = quantidade absouta encontrado em cada categoria\n"
   ]
  },
  {
   "cell_type": "code",
   "execution_count": null,
   "metadata": {
    "colab": {
     "base_uri": "https://localhost:8080/",
     "height": 367
    },
    "id": "4xnA99ff8xfL",
    "outputId": "714f5d19-e18d-461a-b148-22d16d7efc4c"
   },
   "outputs": [
    {
     "name": "stdout",
     "output_type": "stream",
     "text": [
      "roc_auc 0.7593457943925233\n"
     ]
    },
    {
     "data": {
      "image/png": "[encoded data removed]",
      "text/plain": [
       "<Figure size 360x360 with 1 Axes>"
      ]
     },
     "metadata": {
      "needs_background": "light",
      "tags": []
     },
     "output_type": "display_data"
    }
   ],
   "source": [
    "from sklearn.metrics import roc_curve, roc_auc_score\n",
    "\n",
    "prob_previsao = modelo.predict_proba(teste_x)[:,1]\n",
    "\n",
    "#tvp = taxa de falsos positivos\n",
    "#tvp = taxa de verdadeiros positivos\n",
    "\n",
    "# vai definir qual vai ser a minha curva roc\n",
    "tfp, tvp, limite = roc_curve(teste_y, prob_previsao)\n",
    "\n",
    "# calcula qual é a área sob a curva roc através de uma integral\n",
    "print('roc_auc', roc_auc_score(teste_y , prob_previsao)) \n",
    "\n",
    "plt.subplots(1, figsize=(5,5))\n",
    "plt.title('Curva ROC')\n",
    "\n",
    "plt.plot(tfp, tvp)\n",
    "plt.xlabel('Especificade') # taxa de falsos positivos\n",
    "plt.ylabel('Sensibilidade') # taxa de verdadeiros positivo\n",
    "plt.plot([0,1], ls=\"--\", c = 'red')# plotando linha guia pontilhada vermelha\n",
    "plt.plot([0,0],[1,0], ls=\"--\", c = 'green'), plt.plot([1,1], ls= \"--\", c = 'green')  # plotando linha guia pontilhada vermelha\n",
    "plt.show()"
   ]
  },
  {
   "cell_type": "code",
   "execution_count": null,
   "metadata": {
    "colab": {
     "base_uri": "https://localhost:8080/",
     "height": 297
    },
    "id": "KVasOXZQKcap",
    "outputId": "93d61a5a-0071-4019-b992-89b4204f38e2"
   },
   "outputs": [
    {
     "data": {
      "text/html": [
       "<div>\n",
       "<style scoped>\n",
       "    .dataframe tbody tr th:only-of-type {\n",
       "        vertical-align: middle;\n",
       "    }\n",
       "\n",
       "    .dataframe tbody tr th {\n",
       "        vertical-align: top;\n",
       "    }\n",
       "\n",
       "    .dataframe thead th {\n",
       "        text-align: right;\n",
       "    }\n",
       "</style>\n",
       "<table border=\"1\" class=\"dataframe\">\n",
       "  <thead>\n",
       "    <tr style=\"text-align: right;\">\n",
       "      <th></th>\n",
       "      <th>sexo_est_civil</th>\n",
       "      <th>idade</th>\n",
       "      <th>prazo_emprestimo_meses</th>\n",
       "      <th>valor_emprestimo</th>\n",
       "      <th>default</th>\n",
       "    </tr>\n",
       "  </thead>\n",
       "  <tbody>\n",
       "    <tr>\n",
       "      <th>count</th>\n",
       "      <td>1000.000000</td>\n",
       "      <td>1000.000000</td>\n",
       "      <td>1000.000000</td>\n",
       "      <td>1000.000000</td>\n",
       "      <td>1000.000000</td>\n",
       "    </tr>\n",
       "    <tr>\n",
       "      <th>mean</th>\n",
       "      <td>1.686000</td>\n",
       "      <td>35.546000</td>\n",
       "      <td>20.903000</td>\n",
       "      <td>3271.258000</td>\n",
       "      <td>0.300000</td>\n",
       "    </tr>\n",
       "    <tr>\n",
       "      <th>std</th>\n",
       "      <td>0.931811</td>\n",
       "      <td>11.375469</td>\n",
       "      <td>12.058814</td>\n",
       "      <td>2822.736876</td>\n",
       "      <td>0.458487</td>\n",
       "    </tr>\n",
       "    <tr>\n",
       "      <th>min</th>\n",
       "      <td>1.000000</td>\n",
       "      <td>19.000000</td>\n",
       "      <td>4.000000</td>\n",
       "      <td>250.000000</td>\n",
       "      <td>0.000000</td>\n",
       "    </tr>\n",
       "    <tr>\n",
       "      <th>25%</th>\n",
       "      <td>1.000000</td>\n",
       "      <td>27.000000</td>\n",
       "      <td>12.000000</td>\n",
       "      <td>1365.500000</td>\n",
       "      <td>0.000000</td>\n",
       "    </tr>\n",
       "    <tr>\n",
       "      <th>50%</th>\n",
       "      <td>1.000000</td>\n",
       "      <td>33.000000</td>\n",
       "      <td>18.000000</td>\n",
       "      <td>2319.500000</td>\n",
       "      <td>0.000000</td>\n",
       "    </tr>\n",
       "    <tr>\n",
       "      <th>75%</th>\n",
       "      <td>2.000000</td>\n",
       "      <td>42.000000</td>\n",
       "      <td>24.000000</td>\n",
       "      <td>3972.250000</td>\n",
       "      <td>1.000000</td>\n",
       "    </tr>\n",
       "    <tr>\n",
       "      <th>max</th>\n",
       "      <td>4.000000</td>\n",
       "      <td>75.000000</td>\n",
       "      <td>72.000000</td>\n",
       "      <td>18424.000000</td>\n",
       "      <td>1.000000</td>\n",
       "    </tr>\n",
       "  </tbody>\n",
       "</table>\n",
       "</div>"
      ],
      "text/plain": [
       "       sexo_est_civil        idade  ...  valor_emprestimo      default\n",
       "count     1000.000000  1000.000000  ...       1000.000000  1000.000000\n",
       "mean         1.686000    35.546000  ...       3271.258000     0.300000\n",
       "std          0.931811    11.375469  ...       2822.736876     0.458487\n",
       "min          1.000000    19.000000  ...        250.000000     0.000000\n",
       "25%          1.000000    27.000000  ...       1365.500000     0.000000\n",
       "50%          1.000000    33.000000  ...       2319.500000     0.000000\n",
       "75%          2.000000    42.000000  ...       3972.250000     1.000000\n",
       "max          4.000000    75.000000  ...      18424.000000     1.000000\n",
       "\n",
       "[8 rows x 5 columns]"
      ]
     },
     "execution_count": 26,
     "metadata": {
      "tags": []
     },
     "output_type": "execute_result"
    }
   ],
   "source": [
    " variaveis_analises = ['sexo_est_civil', 'idade', 'prazo_emprestimo_meses', 'valor_emprestimo', 'default']\n",
    " dados[variaveis_analises].describe()"
   ]
  },
  {
   "cell_type": "code",
   "execution_count": null,
   "metadata": {
    "colab": {
     "base_uri": "https://localhost:8080/"
    },
    "id": "b5kP_1A2StYK",
    "outputId": "b3e0edef-398c-436a-fb26-85a9fc30be19"
   },
   "outputs": [
    {
     "data": {
      "text/plain": [
       "1    548\n",
       "2    310\n",
       "4     92\n",
       "3     50\n",
       "Name: sexo_est_civil, dtype: int64"
      ]
     },
     "execution_count": 27,
     "metadata": {
      "tags": []
     },
     "output_type": "execute_result"
    }
   ],
   "source": [
    "dados['sexo_est_civil'].value_counts()\n",
    "\n",
    "# temos 310 mulheres e 690 homens"
   ]
  },
  {
   "cell_type": "code",
   "execution_count": null,
   "metadata": {
    "colab": {
     "base_uri": "https://localhost:8080/"
    },
    "id": "m32JIvOPTWqk",
    "outputId": "7d18a762-7abc-4e67-826b-b47435061e97"
   },
   "outputs": [
    {
     "data": {
      "text/plain": [
       "0    700\n",
       "1    300\n",
       "Name: default, dtype: int64"
      ]
     },
     "execution_count": 28,
     "metadata": {
      "tags": []
     },
     "output_type": "execute_result"
    }
   ],
   "source": [
    "dados['default'].value_counts()\n",
    "\n",
    "# a nossa base de dados é desbalanceada, por isso a acuracia não é um bom indicador"
   ]
  },
  {
   "cell_type": "code",
   "execution_count": null,
   "metadata": {
    "id": "eUxxANKpUVzI"
   },
   "outputs": [],
   "source": [
    "import seaborn as sns"
   ]
  },
  {
   "cell_type": "code",
   "execution_count": null,
   "metadata": {
    "colab": {
     "base_uri": "https://localhost:8080/",
     "height": 789
    },
    "id": "4GjHZ1tLUaHJ",
    "outputId": "079d1f2a-3df3-4c3c-ec4c-45051801bf4d"
   },
   "outputs": [
    {
     "data": {
      "image/png": "[encoded data removed]",
      "text/plain": [
       "<Figure size 2160x1440 with 3 Axes>"
      ]
     },
     "metadata": {
      "needs_background": "light",
      "tags": []
     },
     "output_type": "display_data"
    }
   ],
   "source": [
    "histogramas = ['sexo_est_civil', 'prazo_emprestimo_meses', 'default' ]\n",
    "\n",
    "lista_histogramas = list(enumerate(histogramas))\n",
    "\n",
    "plt.figure(figsize=(30,20))\n",
    "for i in lista_histogramas:\n",
    "  plt.subplot(2, 2, i[0]+1)\n",
    "  sns.countplot(x= i[1], data= dados)"
   ]
  },
  {
   "cell_type": "code",
   "execution_count": null,
   "metadata": {
    "colab": {
     "base_uri": "https://localhost:8080/",
     "height": 622
    },
    "id": "bna-uY9_TqNZ",
    "outputId": "bf6ddfec-b315-4649-9404-953be5d7cbe0"
   },
   "outputs": [
    {
     "data": {
      "image/png": "[encoded data removed]",
      "text/plain": [
       "<Figure size 1440x720 with 1 Axes>"
      ]
     },
     "metadata": {
      "needs_background": "light",
      "tags": []
     },
     "output_type": "display_data"
    }
   ],
   "source": [
    "plt.figure(figsize=(20,10))\n",
    "sns.boxplot(x= 'sexo_est_civil', y= 'idade', data= dados)\n",
    "plt.title('Distribuição de idade por sexo estado civil')\n",
    "\n",
    "plt.show()"
   ]
  },
  {
   "cell_type": "code",
   "execution_count": null,
   "metadata": {
    "colab": {
     "base_uri": "https://localhost:8080/",
     "height": 620
    },
    "id": "dBC33sA2EHro",
    "outputId": "b8dcf747-e303-493a-faa8-d589c3d46823"
   },
   "outputs": [
    {
     "data": {
      "image/png": "[encoded data removed]",
      "text/plain": [
       "<Figure size 1440x720 with 1 Axes>"
      ]
     },
     "metadata": {
      "needs_background": "light",
      "tags": []
     },
     "output_type": "display_data"
    }
   ],
   "source": [
    "plt.figure(figsize=(20,10))\n",
    "plt.bar(dados.prazo_emprestimo_meses, dados.valor_emprestimo)\n",
    "plt.xlabel('prazo_emprestimo meses')\n",
    "plt.ylabel('valor_emprestimo')\n",
    "plt.title('Valor X Prazos em meses')\n",
    "plt.show()"
   ]
  },
  {
   "cell_type": "code",
   "execution_count": null,
   "metadata": {
    "colab": {
     "base_uri": "https://localhost:8080/"
    },
    "id": "iI5tvgC7FLcN",
    "outputId": "344e59aa-960c-4b6d-a7fc-d2312bd13a85"
   },
   "outputs": [
    {
     "name": "stdout",
     "output_type": "stream",
     "text": [
      "(male : single) =  1\n",
      "(female : divorced/separated/married) =  2\n",
      "(male : married/widowed) =  3\n",
      "(male : divorced/separated) =  4\n"
     ]
    }
   ],
   "source": [
    "# categoria da variável sexo_est_civil\n",
    "n=0\n",
    "for i in dados_normais.sexo_est_civil.value_counts().index:\n",
    "  n+=1\n",
    "  print('(%s) =  %s'%(i,n))"
   ]
  },
  {
   "cell_type": "code",
   "execution_count": null,
   "metadata": {
    "colab": {
     "base_uri": "https://localhost:8080/",
     "height": 224
    },
    "id": "lcNr_ACRIxiT",
    "outputId": "e43e9bd7-d7b0-43c0-90f5-eaa82b395259"
   },
   "outputs": [
    {
     "data": {
      "text/html": [
       "<div>\n",
       "<style scoped>\n",
       "    .dataframe tbody tr th:only-of-type {\n",
       "        vertical-align: middle;\n",
       "    }\n",
       "\n",
       "    .dataframe tbody tr th {\n",
       "        vertical-align: top;\n",
       "    }\n",
       "\n",
       "    .dataframe thead th {\n",
       "        text-align: right;\n",
       "    }\n",
       "</style>\n",
       "<table border=\"1\" class=\"dataframe\">\n",
       "  <thead>\n",
       "    <tr style=\"text-align: right;\">\n",
       "      <th></th>\n",
       "      <th>default</th>\n",
       "      <th>conta_corrente</th>\n",
       "      <th>prazo_emprestimo_meses</th>\n",
       "      <th>historico_credito</th>\n",
       "      <th>proposito_emprestimo</th>\n",
       "      <th>valor_emprestimo</th>\n",
       "      <th>reserva_cc</th>\n",
       "      <th>tempo_emprego_atual</th>\n",
       "      <th>taxa_comp_salario</th>\n",
       "      <th>sexo_est_civil</th>\n",
       "      <th>outros_fiadores</th>\n",
       "      <th>anos_residencia_atual</th>\n",
       "      <th>propriedade</th>\n",
       "      <th>idade</th>\n",
       "      <th>outros_planos_financiamento</th>\n",
       "      <th>tipo_residencia</th>\n",
       "      <th>n_creditos_banco</th>\n",
       "      <th>status_emprego</th>\n",
       "      <th>n_dependentes</th>\n",
       "      <th>telefone</th>\n",
       "      <th>trabalhador_estrangeiro</th>\n",
       "      <th>sexo</th>\n",
       "      <th>estado_civil</th>\n",
       "    </tr>\n",
       "  </thead>\n",
       "  <tbody>\n",
       "    <tr>\n",
       "      <th>0</th>\n",
       "      <td>0</td>\n",
       "      <td>1</td>\n",
       "      <td>6</td>\n",
       "      <td>1</td>\n",
       "      <td>1</td>\n",
       "      <td>1169</td>\n",
       "      <td>1</td>\n",
       "      <td>1</td>\n",
       "      <td>4</td>\n",
       "      <td>1</td>\n",
       "      <td>1</td>\n",
       "      <td>4</td>\n",
       "      <td>1</td>\n",
       "      <td>67</td>\n",
       "      <td>1</td>\n",
       "      <td>1</td>\n",
       "      <td>2</td>\n",
       "      <td>1</td>\n",
       "      <td>1</td>\n",
       "      <td>1</td>\n",
       "      <td>1</td>\n",
       "      <td>0</td>\n",
       "      <td>0</td>\n",
       "    </tr>\n",
       "    <tr>\n",
       "      <th>1</th>\n",
       "      <td>1</td>\n",
       "      <td>2</td>\n",
       "      <td>48</td>\n",
       "      <td>2</td>\n",
       "      <td>1</td>\n",
       "      <td>5951</td>\n",
       "      <td>2</td>\n",
       "      <td>2</td>\n",
       "      <td>2</td>\n",
       "      <td>2</td>\n",
       "      <td>1</td>\n",
       "      <td>2</td>\n",
       "      <td>1</td>\n",
       "      <td>22</td>\n",
       "      <td>1</td>\n",
       "      <td>1</td>\n",
       "      <td>1</td>\n",
       "      <td>1</td>\n",
       "      <td>1</td>\n",
       "      <td>2</td>\n",
       "      <td>1</td>\n",
       "      <td>1</td>\n",
       "      <td>0</td>\n",
       "    </tr>\n",
       "    <tr>\n",
       "      <th>2</th>\n",
       "      <td>0</td>\n",
       "      <td>3</td>\n",
       "      <td>12</td>\n",
       "      <td>1</td>\n",
       "      <td>2</td>\n",
       "      <td>2096</td>\n",
       "      <td>2</td>\n",
       "      <td>3</td>\n",
       "      <td>2</td>\n",
       "      <td>1</td>\n",
       "      <td>1</td>\n",
       "      <td>3</td>\n",
       "      <td>1</td>\n",
       "      <td>49</td>\n",
       "      <td>1</td>\n",
       "      <td>1</td>\n",
       "      <td>1</td>\n",
       "      <td>2</td>\n",
       "      <td>2</td>\n",
       "      <td>2</td>\n",
       "      <td>1</td>\n",
       "      <td>0</td>\n",
       "      <td>0</td>\n",
       "    </tr>\n",
       "    <tr>\n",
       "      <th>3</th>\n",
       "      <td>0</td>\n",
       "      <td>1</td>\n",
       "      <td>42</td>\n",
       "      <td>2</td>\n",
       "      <td>3</td>\n",
       "      <td>7882</td>\n",
       "      <td>2</td>\n",
       "      <td>3</td>\n",
       "      <td>2</td>\n",
       "      <td>1</td>\n",
       "      <td>2</td>\n",
       "      <td>4</td>\n",
       "      <td>2</td>\n",
       "      <td>45</td>\n",
       "      <td>1</td>\n",
       "      <td>2</td>\n",
       "      <td>1</td>\n",
       "      <td>1</td>\n",
       "      <td>2</td>\n",
       "      <td>2</td>\n",
       "      <td>1</td>\n",
       "      <td>0</td>\n",
       "      <td>0</td>\n",
       "    </tr>\n",
       "    <tr>\n",
       "      <th>4</th>\n",
       "      <td>1</td>\n",
       "      <td>1</td>\n",
       "      <td>24</td>\n",
       "      <td>3</td>\n",
       "      <td>4</td>\n",
       "      <td>4870</td>\n",
       "      <td>2</td>\n",
       "      <td>2</td>\n",
       "      <td>3</td>\n",
       "      <td>1</td>\n",
       "      <td>1</td>\n",
       "      <td>4</td>\n",
       "      <td>3</td>\n",
       "      <td>53</td>\n",
       "      <td>1</td>\n",
       "      <td>2</td>\n",
       "      <td>2</td>\n",
       "      <td>1</td>\n",
       "      <td>2</td>\n",
       "      <td>2</td>\n",
       "      <td>1</td>\n",
       "      <td>0</td>\n",
       "      <td>0</td>\n",
       "    </tr>\n",
       "  </tbody>\n",
       "</table>\n",
       "</div>"
      ],
      "text/plain": [
       "   default  conta_corrente  ...  sexo  estado_civil\n",
       "0        0               1  ...     0             0\n",
       "1        1               2  ...     1             0\n",
       "2        0               3  ...     0             0\n",
       "3        0               1  ...     0             0\n",
       "4        1               1  ...     0             0\n",
       "\n",
       "[5 rows x 23 columns]"
      ]
     },
     "execution_count": 34,
     "metadata": {
      "tags": []
     },
     "output_type": "execute_result"
    }
   ],
   "source": [
    "# Criando variável sexo\n",
    "## 1 = mulher\n",
    "## 0 = homem\n",
    "\n",
    "# Criando variável estado_civil\n",
    "## 1 = solteiros\n",
    "## 0 = casada/divorciada/viúva\n",
    "\n",
    "dic_sexo = {2:1, 5:1, 1:0, 3:0, 4:0}\n",
    "dic_est_civil = {3:1, 5:1, 1:0, 2:0, 4:0}\n",
    "\n",
    "dados['sexo'] = dados['sexo_est_civil'].map(dic_sexo)\n",
    "dados['estado_civil'] = dados['sexo_est_civil'].map(dic_est_civil)\n",
    "\n",
    "dados.head()"
   ]
  },
  {
   "cell_type": "code",
   "execution_count": null,
   "metadata": {
    "id": "daLkaODNJHmD"
   },
   "outputs": [],
   "source": [
    "# função roda_modelo: ajuste e validação\n",
    "\n",
    "def roda_modelo(base_dados, classificador):\n",
    "\n",
    "# separando  a base de modelagem e variavel resposta\n",
    "  y = base_dados['default']\n",
    "  x = base_dados.drop(columns='default')\n",
    "\n",
    "# separando a base de treino e teste\n",
    "  SEED = 77\n",
    "  treino_x, teste_x, treino_y, teste_y = train_test_split(x, y, test_size= 0.3, random_state= SEED)\n",
    "  base_treino = treino_x.shape[0] \n",
    "  base_teste = teste_x.shape[0]\n",
    "  print('A base de treino tem %s elementos e a base de teste tem %s elementos.'%(base_treino,base_teste))\n",
    "  print(100*'-')\n",
    "# Ajustando modelo com a base de teste\n",
    "\n",
    "  modelo = classificador  \n",
    "  modelo.fit(treino_x, treino_y)\n",
    "  print(100*'-')\n",
    "\n",
    "# Matrix de Confusão\n",
    "\n",
    "  matriz_confusao = plot_confusion_matrix(modelo, teste_x, teste_y, values_format='.3g', cmap='Blues')\n",
    "  plt.title('Matriz de Confusão')\n",
    "  plt.show()\n",
    "  print(100*'-')\n",
    "\n",
    "\n",
    "# Classification Report\n",
    "\n",
    "  previsoes = modelo.predict(teste_x)\n",
    "  print(100*'-')\n",
    "  print('/nClassification Report:')\n",
    "  print(classification_report(teste_y, previsoes) )\n",
    "\n",
    "\n",
    "# Curva ROC e AUC\n",
    "  print(100*'-')\n",
    "  prob_previsao = modelo.predict_log_proba(teste_x)[:,1]\n",
    "\n",
    "  tfp, tvp, limite = roc_curve(teste_y, prob_previsao)\n",
    "  print('roc_AUC', roc_auc_score(teste_y, prob_previsao))\n",
    "  \n",
    "  plt.subplots(1, figsize=(5,5))\n",
    "  plt.title('Curva ROC')\n",
    "  plt.plot(tfp, tvp)\n",
    "  plt.xlabel('Especificidade')\n",
    "  plt.ylabel('Sensibilidade') # taxa de verdadeiros positivo\n",
    "  plt.plot([0,1], ls=\"--\", c = 'red')# plotando linha guia pontilhada vermelha\n",
    "  plt.plot([0,0],[1,0], ls=\"--\", c = 'green'), plt.plot([1,1], ls= \"--\", c = 'green')  # plotando linha guia pontilhada vermelha\n",
    "  plt.show()\n",
    "\n",
    "  return modelo, matriz_confusao"
   ]
  },
  {
   "cell_type": "code",
   "execution_count": null,
   "metadata": {
    "id": "265SosyZo57W"
   },
   "outputs": [],
   "source": [
    "# Função para retirar colunas da base de dados\n",
    "\n",
    "colunas_retiradas = ['sexo_est_civil', 'sexo']\n",
    "base_dados = dados.drop(columns=colunas_retiradas)"
   ]
  },
  {
   "cell_type": "code",
   "execution_count": null,
   "metadata": {
    "colab": {
     "base_uri": "https://localhost:8080/",
     "height": 1000
    },
    "id": "X8srDYU2nLoZ",
    "outputId": "aa82901c-31bc-4b51-b464-84e18d1774bf"
   },
   "outputs": [
    {
     "name": "stdout",
     "output_type": "stream",
     "text": [
      "A base de treino tem 700 elementos e a base de teste tem 300 elementos.\n",
      "----------------------------------------------------------------------------------------------------\n",
      "----------------------------------------------------------------------------------------------------\n"
     ]
    },
    {
     "data": {
      "image/png": "[encoded data removed]",
      "text/plain": [
       "<Figure size 432x288 with 2 Axes>"
      ]
     },
     "metadata": {
      "needs_background": "light",
      "tags": []
     },
     "output_type": "display_data"
    },
    {
     "name": "stdout",
     "output_type": "stream",
     "text": [
      "----------------------------------------------------------------------------------------------------\n",
      "----------------------------------------------------------------------------------------------------\n",
      "/nClassification Report:\n",
      "              precision    recall  f1-score   support\n",
      "\n",
      "           0       0.80      0.90      0.85       214\n",
      "           1       0.64      0.45      0.53        86\n",
      "\n",
      "    accuracy                           0.77       300\n",
      "   macro avg       0.72      0.68      0.69       300\n",
      "weighted avg       0.76      0.77      0.76       300\n",
      "\n",
      "----------------------------------------------------------------------------------------------------\n",
      "roc_AUC 0.7590741143229733\n"
     ]
    },
    {
     "data": {
      "image/png": "[encoded data removed]",
      "text/plain": [
       "<Figure size 360x360 with 1 Axes>"
      ]
     },
     "metadata": {
      "needs_background": "light",
      "tags": []
     },
     "output_type": "display_data"
    },
    {
     "data": {
      "text/plain": [
       "(LogisticRegression(C=1.0, class_weight=None, dual=False, fit_intercept=True,\n",
       "                    intercept_scaling=1, l1_ratio=None, max_iter=1000,\n",
       "                    multi_class='auto', n_jobs=None, penalty='l2',\n",
       "                    random_state=None, solver='lbfgs', tol=0.0001, verbose=0,\n",
       "                    warm_start=False),\n",
       " <sklearn.metrics._plot.confusion_matrix.ConfusionMatrixDisplay at 0x7f0dd3bb1810>)"
      ]
     },
     "execution_count": 43,
     "metadata": {
      "tags": []
     },
     "output_type": "execute_result"
    }
   ],
   "source": [
    "roda_modelo(dados, LogisticRegression(max_iter=1000)) "
   ]
  },
  {
   "cell_type": "code",
   "execution_count": null,
   "metadata": {
    "colab": {
     "base_uri": "https://localhost:8080/",
     "height": 1000
    },
    "id": "6wMKzhhKpkbI",
    "outputId": "1c4b3024-4245-4f13-c897-c51777b39dfc"
   },
   "outputs": [
    {
     "name": "stdout",
     "output_type": "stream",
     "text": [
      "A base de treino tem 700 elementos e a base de teste tem 300 elementos.\n",
      "----------------------------------------------------------------------------------------------------\n",
      "----------------------------------------------------------------------------------------------------\n"
     ]
    },
    {
     "data": {
      "image/png": "[encoded data removed]",
      "text/plain": [
       "<Figure size 432x288 with 2 Axes>"
      ]
     },
     "metadata": {
      "needs_background": "light",
      "tags": []
     },
     "output_type": "display_data"
    },
    {
     "name": "stdout",
     "output_type": "stream",
     "text": [
      "----------------------------------------------------------------------------------------------------\n",
      "----------------------------------------------------------------------------------------------------\n",
      "/nClassification Report:\n",
      "              precision    recall  f1-score   support\n",
      "\n",
      "           0       0.80      0.91      0.85       214\n",
      "           1       0.64      0.42      0.51        86\n",
      "\n",
      "    accuracy                           0.77       300\n",
      "   macro avg       0.72      0.66      0.68       300\n",
      "weighted avg       0.75      0.77      0.75       300\n",
      "\n",
      "----------------------------------------------------------------------------------------------------\n",
      "roc_AUC 0.7598348185177135\n"
     ]
    },
    {
     "data": {
      "image/png": "[encoded data removed]",
      "text/plain": [
       "<Figure size 360x360 with 1 Axes>"
      ]
     },
     "metadata": {
      "needs_background": "light",
      "tags": []
     },
     "output_type": "display_data"
    },
    {
     "data": {
      "text/plain": [
       "(LogisticRegression(C=1.0, class_weight=None, dual=False, fit_intercept=True,\n",
       "                    intercept_scaling=1, l1_ratio=None, max_iter=1000,\n",
       "                    multi_class='auto', n_jobs=None, penalty='l2',\n",
       "                    random_state=None, solver='lbfgs', tol=0.0001, verbose=0,\n",
       "                    warm_start=False),\n",
       " <sklearn.metrics._plot.confusion_matrix.ConfusionMatrixDisplay at 0x7f0dd4d393d0>)"
      ]
     },
     "execution_count": 46,
     "metadata": {
      "tags": []
     },
     "output_type": "execute_result"
    }
   ],
   "source": [
    "roda_modelo(base_dados, LogisticRegression(max_iter=1000)) \n"
   ]
  },
  {
   "cell_type": "code",
   "execution_count": null,
   "metadata": {
    "colab": {
     "base_uri": "https://localhost:8080/",
     "height": 513
    },
    "id": "Cmc7OIc1nVKq",
    "outputId": "9a74677b-64d1-4705-af19-b550a2c336c9"
   },
   "outputs": [
    {
     "data": {
      "image/png": "[encoded data removed]",
      "text/plain": [
       "<Figure size 1296x576 with 1 Axes>"
      ]
     },
     "metadata": {
      "tags": []
     },
     "output_type": "display_data"
    }
   ],
   "source": [
    "dados.idade.hist(bins=[18,30,40,50,60,70,80],  figsize=(18,8) )\n",
    "sns.set()\n",
    "plt.title('Histograma da Idade', size=28)\n",
    "plt.show()"
   ]
  },
  {
   "cell_type": "code",
   "execution_count": null,
   "metadata": {
    "colab": {
     "base_uri": "https://localhost:8080/",
     "height": 224
    },
    "id": "YOfTZR3AsnDN",
    "outputId": "9959efa3-a2ab-4685-99bc-0d6811cca343"
   },
   "outputs": [
    {
     "data": {
      "text/html": [
       "<div>\n",
       "<style scoped>\n",
       "    .dataframe tbody tr th:only-of-type {\n",
       "        vertical-align: middle;\n",
       "    }\n",
       "\n",
       "    .dataframe tbody tr th {\n",
       "        vertical-align: top;\n",
       "    }\n",
       "\n",
       "    .dataframe thead th {\n",
       "        text-align: right;\n",
       "    }\n",
       "</style>\n",
       "<table border=\"1\" class=\"dataframe\">\n",
       "  <thead>\n",
       "    <tr style=\"text-align: right;\">\n",
       "      <th></th>\n",
       "      <th>default</th>\n",
       "      <th>conta_corrente</th>\n",
       "      <th>prazo_emprestimo_meses</th>\n",
       "      <th>historico_credito</th>\n",
       "      <th>proposito_emprestimo</th>\n",
       "      <th>valor_emprestimo</th>\n",
       "      <th>reserva_cc</th>\n",
       "      <th>tempo_emprego_atual</th>\n",
       "      <th>taxa_comp_salario</th>\n",
       "      <th>sexo_est_civil</th>\n",
       "      <th>outros_fiadores</th>\n",
       "      <th>anos_residencia_atual</th>\n",
       "      <th>propriedade</th>\n",
       "      <th>idade</th>\n",
       "      <th>outros_planos_financiamento</th>\n",
       "      <th>tipo_residencia</th>\n",
       "      <th>n_creditos_banco</th>\n",
       "      <th>status_emprego</th>\n",
       "      <th>n_dependentes</th>\n",
       "      <th>telefone</th>\n",
       "      <th>trabalhador_estrangeiro</th>\n",
       "      <th>sexo</th>\n",
       "      <th>estado_civil</th>\n",
       "      <th>faixa_idade</th>\n",
       "    </tr>\n",
       "  </thead>\n",
       "  <tbody>\n",
       "    <tr>\n",
       "      <th>0</th>\n",
       "      <td>0</td>\n",
       "      <td>1</td>\n",
       "      <td>6</td>\n",
       "      <td>1</td>\n",
       "      <td>1</td>\n",
       "      <td>1169</td>\n",
       "      <td>1</td>\n",
       "      <td>1</td>\n",
       "      <td>4</td>\n",
       "      <td>1</td>\n",
       "      <td>1</td>\n",
       "      <td>4</td>\n",
       "      <td>1</td>\n",
       "      <td>67</td>\n",
       "      <td>1</td>\n",
       "      <td>1</td>\n",
       "      <td>2</td>\n",
       "      <td>1</td>\n",
       "      <td>1</td>\n",
       "      <td>1</td>\n",
       "      <td>1</td>\n",
       "      <td>0</td>\n",
       "      <td>0</td>\n",
       "      <td>5</td>\n",
       "    </tr>\n",
       "    <tr>\n",
       "      <th>1</th>\n",
       "      <td>1</td>\n",
       "      <td>2</td>\n",
       "      <td>48</td>\n",
       "      <td>2</td>\n",
       "      <td>1</td>\n",
       "      <td>5951</td>\n",
       "      <td>2</td>\n",
       "      <td>2</td>\n",
       "      <td>2</td>\n",
       "      <td>2</td>\n",
       "      <td>1</td>\n",
       "      <td>2</td>\n",
       "      <td>1</td>\n",
       "      <td>22</td>\n",
       "      <td>1</td>\n",
       "      <td>1</td>\n",
       "      <td>1</td>\n",
       "      <td>1</td>\n",
       "      <td>1</td>\n",
       "      <td>2</td>\n",
       "      <td>1</td>\n",
       "      <td>1</td>\n",
       "      <td>0</td>\n",
       "      <td>1</td>\n",
       "    </tr>\n",
       "    <tr>\n",
       "      <th>2</th>\n",
       "      <td>0</td>\n",
       "      <td>3</td>\n",
       "      <td>12</td>\n",
       "      <td>1</td>\n",
       "      <td>2</td>\n",
       "      <td>2096</td>\n",
       "      <td>2</td>\n",
       "      <td>3</td>\n",
       "      <td>2</td>\n",
       "      <td>1</td>\n",
       "      <td>1</td>\n",
       "      <td>3</td>\n",
       "      <td>1</td>\n",
       "      <td>49</td>\n",
       "      <td>1</td>\n",
       "      <td>1</td>\n",
       "      <td>1</td>\n",
       "      <td>2</td>\n",
       "      <td>2</td>\n",
       "      <td>2</td>\n",
       "      <td>1</td>\n",
       "      <td>0</td>\n",
       "      <td>0</td>\n",
       "      <td>3</td>\n",
       "    </tr>\n",
       "    <tr>\n",
       "      <th>3</th>\n",
       "      <td>0</td>\n",
       "      <td>1</td>\n",
       "      <td>42</td>\n",
       "      <td>2</td>\n",
       "      <td>3</td>\n",
       "      <td>7882</td>\n",
       "      <td>2</td>\n",
       "      <td>3</td>\n",
       "      <td>2</td>\n",
       "      <td>1</td>\n",
       "      <td>2</td>\n",
       "      <td>4</td>\n",
       "      <td>2</td>\n",
       "      <td>45</td>\n",
       "      <td>1</td>\n",
       "      <td>2</td>\n",
       "      <td>1</td>\n",
       "      <td>1</td>\n",
       "      <td>2</td>\n",
       "      <td>2</td>\n",
       "      <td>1</td>\n",
       "      <td>0</td>\n",
       "      <td>0</td>\n",
       "      <td>3</td>\n",
       "    </tr>\n",
       "    <tr>\n",
       "      <th>4</th>\n",
       "      <td>1</td>\n",
       "      <td>1</td>\n",
       "      <td>24</td>\n",
       "      <td>3</td>\n",
       "      <td>4</td>\n",
       "      <td>4870</td>\n",
       "      <td>2</td>\n",
       "      <td>2</td>\n",
       "      <td>3</td>\n",
       "      <td>1</td>\n",
       "      <td>1</td>\n",
       "      <td>4</td>\n",
       "      <td>3</td>\n",
       "      <td>53</td>\n",
       "      <td>1</td>\n",
       "      <td>2</td>\n",
       "      <td>2</td>\n",
       "      <td>1</td>\n",
       "      <td>2</td>\n",
       "      <td>2</td>\n",
       "      <td>1</td>\n",
       "      <td>0</td>\n",
       "      <td>0</td>\n",
       "      <td>4</td>\n",
       "    </tr>\n",
       "  </tbody>\n",
       "</table>\n",
       "</div>"
      ],
      "text/plain": [
       "   default  conta_corrente  ...  estado_civil  faixa_idade\n",
       "0        0               1  ...             0            5\n",
       "1        1               2  ...             0            1\n",
       "2        0               3  ...             0            3\n",
       "3        0               1  ...             0            3\n",
       "4        1               1  ...             0            4\n",
       "\n",
       "[5 rows x 24 columns]"
      ]
     },
     "execution_count": 69,
     "metadata": {
      "tags": []
     },
     "output_type": "execute_result"
    }
   ],
   "source": [
    "# Criar a coluna faixa_idade\n",
    "\n",
    "dados['faixa_idade']  = pd.cut(x = dados['idade'], bins=[18,30,40,50,60,70,80], labels=[1,2,3,4,5,6])\n",
    "dados.head()"
   ]
  },
  {
   "cell_type": "code",
   "execution_count": null,
   "metadata": {
    "colab": {
     "base_uri": "https://localhost:8080/",
     "height": 224
    },
    "id": "lmWZe083tTI4",
    "outputId": "965026e1-c6b9-47f1-98eb-38444cef237c"
   },
   "outputs": [
    {
     "data": {
      "text/html": [
       "<div>\n",
       "<style scoped>\n",
       "    .dataframe tbody tr th:only-of-type {\n",
       "        vertical-align: middle;\n",
       "    }\n",
       "\n",
       "    .dataframe tbody tr th {\n",
       "        vertical-align: top;\n",
       "    }\n",
       "\n",
       "    .dataframe thead th {\n",
       "        text-align: right;\n",
       "    }\n",
       "</style>\n",
       "<table border=\"1\" class=\"dataframe\">\n",
       "  <thead>\n",
       "    <tr style=\"text-align: right;\">\n",
       "      <th></th>\n",
       "      <th>default</th>\n",
       "      <th>conta_corrente</th>\n",
       "      <th>prazo_emprestimo_meses</th>\n",
       "      <th>historico_credito</th>\n",
       "      <th>proposito_emprestimo</th>\n",
       "      <th>valor_emprestimo</th>\n",
       "      <th>reserva_cc</th>\n",
       "      <th>tempo_emprego_atual</th>\n",
       "      <th>taxa_comp_salario</th>\n",
       "      <th>sexo_est_civil</th>\n",
       "      <th>outros_fiadores</th>\n",
       "      <th>anos_residencia_atual</th>\n",
       "      <th>propriedade</th>\n",
       "      <th>idade</th>\n",
       "      <th>outros_planos_financiamento</th>\n",
       "      <th>tipo_residencia</th>\n",
       "      <th>n_creditos_banco</th>\n",
       "      <th>status_emprego</th>\n",
       "      <th>n_dependentes</th>\n",
       "      <th>telefone</th>\n",
       "      <th>trabalhador_estrangeiro</th>\n",
       "      <th>sexo</th>\n",
       "      <th>estado_civil</th>\n",
       "      <th>faixa_idade</th>\n",
       "      <th>faixa_prazo_emprestimo</th>\n",
       "    </tr>\n",
       "  </thead>\n",
       "  <tbody>\n",
       "    <tr>\n",
       "      <th>0</th>\n",
       "      <td>0</td>\n",
       "      <td>1</td>\n",
       "      <td>6</td>\n",
       "      <td>1</td>\n",
       "      <td>1</td>\n",
       "      <td>1169</td>\n",
       "      <td>1</td>\n",
       "      <td>1</td>\n",
       "      <td>4</td>\n",
       "      <td>1</td>\n",
       "      <td>1</td>\n",
       "      <td>4</td>\n",
       "      <td>1</td>\n",
       "      <td>67</td>\n",
       "      <td>1</td>\n",
       "      <td>1</td>\n",
       "      <td>2</td>\n",
       "      <td>1</td>\n",
       "      <td>1</td>\n",
       "      <td>1</td>\n",
       "      <td>1</td>\n",
       "      <td>0</td>\n",
       "      <td>0</td>\n",
       "      <td>5</td>\n",
       "      <td>1</td>\n",
       "    </tr>\n",
       "    <tr>\n",
       "      <th>1</th>\n",
       "      <td>1</td>\n",
       "      <td>2</td>\n",
       "      <td>48</td>\n",
       "      <td>2</td>\n",
       "      <td>1</td>\n",
       "      <td>5951</td>\n",
       "      <td>2</td>\n",
       "      <td>2</td>\n",
       "      <td>2</td>\n",
       "      <td>2</td>\n",
       "      <td>1</td>\n",
       "      <td>2</td>\n",
       "      <td>1</td>\n",
       "      <td>22</td>\n",
       "      <td>1</td>\n",
       "      <td>1</td>\n",
       "      <td>1</td>\n",
       "      <td>1</td>\n",
       "      <td>1</td>\n",
       "      <td>2</td>\n",
       "      <td>1</td>\n",
       "      <td>1</td>\n",
       "      <td>0</td>\n",
       "      <td>1</td>\n",
       "      <td>4</td>\n",
       "    </tr>\n",
       "    <tr>\n",
       "      <th>2</th>\n",
       "      <td>0</td>\n",
       "      <td>3</td>\n",
       "      <td>12</td>\n",
       "      <td>1</td>\n",
       "      <td>2</td>\n",
       "      <td>2096</td>\n",
       "      <td>2</td>\n",
       "      <td>3</td>\n",
       "      <td>2</td>\n",
       "      <td>1</td>\n",
       "      <td>1</td>\n",
       "      <td>3</td>\n",
       "      <td>1</td>\n",
       "      <td>49</td>\n",
       "      <td>1</td>\n",
       "      <td>1</td>\n",
       "      <td>1</td>\n",
       "      <td>2</td>\n",
       "      <td>2</td>\n",
       "      <td>2</td>\n",
       "      <td>1</td>\n",
       "      <td>0</td>\n",
       "      <td>0</td>\n",
       "      <td>3</td>\n",
       "      <td>1</td>\n",
       "    </tr>\n",
       "    <tr>\n",
       "      <th>3</th>\n",
       "      <td>0</td>\n",
       "      <td>1</td>\n",
       "      <td>42</td>\n",
       "      <td>2</td>\n",
       "      <td>3</td>\n",
       "      <td>7882</td>\n",
       "      <td>2</td>\n",
       "      <td>3</td>\n",
       "      <td>2</td>\n",
       "      <td>1</td>\n",
       "      <td>2</td>\n",
       "      <td>4</td>\n",
       "      <td>2</td>\n",
       "      <td>45</td>\n",
       "      <td>1</td>\n",
       "      <td>2</td>\n",
       "      <td>1</td>\n",
       "      <td>1</td>\n",
       "      <td>2</td>\n",
       "      <td>2</td>\n",
       "      <td>1</td>\n",
       "      <td>0</td>\n",
       "      <td>0</td>\n",
       "      <td>3</td>\n",
       "      <td>4</td>\n",
       "    </tr>\n",
       "    <tr>\n",
       "      <th>4</th>\n",
       "      <td>1</td>\n",
       "      <td>1</td>\n",
       "      <td>24</td>\n",
       "      <td>3</td>\n",
       "      <td>4</td>\n",
       "      <td>4870</td>\n",
       "      <td>2</td>\n",
       "      <td>2</td>\n",
       "      <td>3</td>\n",
       "      <td>1</td>\n",
       "      <td>1</td>\n",
       "      <td>4</td>\n",
       "      <td>3</td>\n",
       "      <td>53</td>\n",
       "      <td>1</td>\n",
       "      <td>2</td>\n",
       "      <td>2</td>\n",
       "      <td>1</td>\n",
       "      <td>2</td>\n",
       "      <td>2</td>\n",
       "      <td>1</td>\n",
       "      <td>0</td>\n",
       "      <td>0</td>\n",
       "      <td>4</td>\n",
       "      <td>2</td>\n",
       "    </tr>\n",
       "  </tbody>\n",
       "</table>\n",
       "</div>"
      ],
      "text/plain": [
       "   default  conta_corrente  ...  faixa_idade  faixa_prazo_emprestimo\n",
       "0        0               1  ...            5                       1\n",
       "1        1               2  ...            1                       4\n",
       "2        0               3  ...            3                       1\n",
       "3        0               1  ...            3                       4\n",
       "4        1               1  ...            4                       2\n",
       "\n",
       "[5 rows x 25 columns]"
      ]
     },
     "execution_count": 70,
     "metadata": {
      "tags": []
     },
     "output_type": "execute_result"
    }
   ],
   "source": [
    "# criando 'faixa_prazo_emprestimo' para variavel 'prazo_emprestimo_meses'\n",
    "\n",
    "dados['faixa_prazo_emprestimo']  = pd.cut(x = dados['prazo_emprestimo_meses'], bins=[1,12,24,36,48,60,72], labels=[1,2,3,4,5,6])\n",
    "dados.head()"
   ]
  },
  {
   "cell_type": "code",
   "execution_count": null,
   "metadata": {
    "colab": {
     "base_uri": "https://localhost:8080/",
     "height": 386
    },
    "id": "0GuU0ajcuNC0",
    "outputId": "4a27044c-d378-44a7-b136-e5b6474ef122"
   },
   "outputs": [
    {
     "ename": "ValueError",
     "evalue": "ignored",
     "output_type": "error",
     "traceback": [
      "\u001b[0;31m---------------------------------------------------------------------------\u001b[0m",
      "\u001b[0;31mValueError\u001b[0m                                Traceback (most recent call last)",
      "\u001b[0;32m<ipython-input-71-70524f0aaa6d>\u001b[0m in \u001b[0;36m<module>\u001b[0;34m()\u001b[0m\n\u001b[1;32m      1\u001b[0m \u001b[0;31m# faixa_valor_emprestimo\u001b[0m\u001b[0;34m\u001b[0m\u001b[0;34m\u001b[0m\u001b[0;34m\u001b[0m\u001b[0m\n\u001b[1;32m      2\u001b[0m \u001b[0;34m\u001b[0m\u001b[0m\n\u001b[0;32m----> 3\u001b[0;31m \u001b[0mdados\u001b[0m\u001b[0;34m[\u001b[0m\u001b[0;34m'faixa_valor_emprestimo'\u001b[0m\u001b[0;34m]\u001b[0m  \u001b[0;34m=\u001b[0m \u001b[0mpd\u001b[0m\u001b[0;34m.\u001b[0m\u001b[0mcut\u001b[0m\u001b[0;34m(\u001b[0m\u001b[0mx\u001b[0m \u001b[0;34m=\u001b[0m \u001b[0mdados\u001b[0m\u001b[0;34m[\u001b[0m\u001b[0;34m'valor_emprestimo'\u001b[0m\u001b[0;34m]\u001b[0m\u001b[0;34m,\u001b[0m \u001b[0mbins\u001b[0m\u001b[0;34m=\u001b[0m\u001b[0;34m[\u001b[0m\u001b[0;36m1\u001b[0m\u001b[0;34m,\u001b[0m\u001b[0;36m1000\u001b[0m\u001b[0;34m,\u001b[0m\u001b[0;36m2000\u001b[0m\u001b[0;34m,\u001b[0m\u001b[0;36m3000\u001b[0m\u001b[0;34m,\u001b[0m\u001b[0;36m4000\u001b[0m\u001b[0;34m,\u001b[0m\u001b[0;36m5000\u001b[0m\u001b[0;34m,\u001b[0m\u001b[0;36m6000\u001b[0m\u001b[0;34m,\u001b[0m\u001b[0;36m7000\u001b[0m\u001b[0;34m,\u001b[0m\u001b[0;36m8000\u001b[0m\u001b[0;34m,\u001b[0m\u001b[0;36m9000\u001b[0m\u001b[0;34m,\u001b[0m\u001b[0;36m10000\u001b[0m\u001b[0;34m,\u001b[0m\u001b[0;36m11000\u001b[0m\u001b[0;34m,\u001b[0m\u001b[0;36m12000\u001b[0m\u001b[0;34m,\u001b[0m\u001b[0;36m13000\u001b[0m\u001b[0;34m,\u001b[0m\u001b[0;36m14000\u001b[0m\u001b[0;34m,\u001b[0m\u001b[0;36m15000\u001b[0m\u001b[0;34m,\u001b[0m\u001b[0;36m16000\u001b[0m\u001b[0;34m,\u001b[0m\u001b[0;36m17000\u001b[0m\u001b[0;34m,\u001b[0m\u001b[0;36m18000\u001b[0m\u001b[0;34m,\u001b[0m\u001b[0;36m19000\u001b[0m\u001b[0;34m,\u001b[0m\u001b[0;36m2000\u001b[0m\u001b[0;34m]\u001b[0m\u001b[0;34m,\u001b[0m \u001b[0mlabels\u001b[0m\u001b[0;34m=\u001b[0m\u001b[0;34m[\u001b[0m\u001b[0;36m1\u001b[0m\u001b[0;34m,\u001b[0m\u001b[0;36m2\u001b[0m\u001b[0;34m,\u001b[0m\u001b[0;36m3\u001b[0m\u001b[0;34m,\u001b[0m\u001b[0;36m4\u001b[0m\u001b[0;34m,\u001b[0m\u001b[0;36m5\u001b[0m\u001b[0;34m,\u001b[0m\u001b[0;36m6\u001b[0m\u001b[0;34m,\u001b[0m\u001b[0;36m7\u001b[0m\u001b[0;34m,\u001b[0m\u001b[0;36m8\u001b[0m\u001b[0;34m,\u001b[0m\u001b[0;36m9\u001b[0m\u001b[0;34m,\u001b[0m\u001b[0;36m10\u001b[0m\u001b[0;34m,\u001b[0m\u001b[0;36m11\u001b[0m\u001b[0;34m,\u001b[0m\u001b[0;36m12\u001b[0m\u001b[0;34m,\u001b[0m\u001b[0;36m13\u001b[0m\u001b[0;34m,\u001b[0m\u001b[0;36m14\u001b[0m\u001b[0;34m,\u001b[0m\u001b[0;36m15\u001b[0m\u001b[0;34m,\u001b[0m\u001b[0;36m16\u001b[0m\u001b[0;34m,\u001b[0m\u001b[0;36m17\u001b[0m\u001b[0;34m,\u001b[0m\u001b[0;36m18\u001b[0m\u001b[0;34m,\u001b[0m\u001b[0;36m19\u001b[0m\u001b[0;34m,\u001b[0m\u001b[0;36m20\u001b[0m\u001b[0;34m]\u001b[0m\u001b[0;34m)\u001b[0m\u001b[0;34m\u001b[0m\u001b[0;34m\u001b[0m\u001b[0m\n\u001b[0m\u001b[1;32m      4\u001b[0m \u001b[0mdados\u001b[0m\u001b[0;34m.\u001b[0m\u001b[0mhead\u001b[0m\u001b[0;34m(\u001b[0m\u001b[0;34m)\u001b[0m\u001b[0;34m\u001b[0m\u001b[0;34m\u001b[0m\u001b[0m\n",
      "\u001b[0;32m/usr/local/lib/python3.7/dist-packages/pandas/core/reshape/tile.py\u001b[0m in \u001b[0;36mcut\u001b[0;34m(x, bins, right, labels, retbins, precision, include_lowest, duplicates, ordered)\u001b[0m\n\u001b[1;32m    271\u001b[0m         \u001b[0;31m# GH 26045: cast to float64 to avoid an overflow\u001b[0m\u001b[0;34m\u001b[0m\u001b[0;34m\u001b[0m\u001b[0;34m\u001b[0m\u001b[0m\n\u001b[1;32m    272\u001b[0m         \u001b[0;32mif\u001b[0m \u001b[0;34m(\u001b[0m\u001b[0mnp\u001b[0m\u001b[0;34m.\u001b[0m\u001b[0mdiff\u001b[0m\u001b[0;34m(\u001b[0m\u001b[0mbins\u001b[0m\u001b[0;34m.\u001b[0m\u001b[0mastype\u001b[0m\u001b[0;34m(\u001b[0m\u001b[0;34m\"float64\"\u001b[0m\u001b[0;34m)\u001b[0m\u001b[0;34m)\u001b[0m \u001b[0;34m<\u001b[0m \u001b[0;36m0\u001b[0m\u001b[0;34m)\u001b[0m\u001b[0;34m.\u001b[0m\u001b[0many\u001b[0m\u001b[0;34m(\u001b[0m\u001b[0;34m)\u001b[0m\u001b[0;34m:\u001b[0m\u001b[0;34m\u001b[0m\u001b[0;34m\u001b[0m\u001b[0m\n\u001b[0;32m--> 273\u001b[0;31m             \u001b[0;32mraise\u001b[0m \u001b[0mValueError\u001b[0m\u001b[0;34m(\u001b[0m\u001b[0;34m\"bins must increase monotonically.\"\u001b[0m\u001b[0;34m)\u001b[0m\u001b[0;34m\u001b[0m\u001b[0;34m\u001b[0m\u001b[0m\n\u001b[0m\u001b[1;32m    274\u001b[0m \u001b[0;34m\u001b[0m\u001b[0m\n\u001b[1;32m    275\u001b[0m     fac, bins = _bins_to_cuts(\n",
      "\u001b[0;31mValueError\u001b[0m: bins must increase monotonically."
     ]
    }
   ],
   "source": [
    "# faixa_valor_emprestimo\n",
    "\n",
    "dados['faixa_valor_emprestimo']  = pd.cut(x = dados['valor_emprestimo'], bins=[1,1000,2000,3000,4000,5000,6000,7000,8000,9000,10000,11000,12000,13000,14000,15000,16000,17000,18000,19000,2000], labels=[1,2,3,4,5,6,7,8,9,10,11,12,13,14,15,16,17,18,19,20])\n",
    "dados.head()"
   ]
  },
  {
   "cell_type": "code",
   "execution_count": null,
   "metadata": {
    "id": "eybLQS3Xu67e"
   },
   "outputs": [],
   "source": []
  }
 ],
 "metadata": {
  "colab": {
   "name": "Machine learning - Credit Scoring.ipynb",
   "provenance": []
  },
  "kernelspec": {
   "display_name": "Python 3",
   "language": "python",
   "name": "python3"
  },
  "language_info": {
   "codemirror_mode": {
    "name": "ipython",
    "version": 3
   },
   "file_extension": ".py",
   "mimetype": "text/x-python",
   "name": "python",
   "nbconvert_exporter": "python",
   "pygments_lexer": "ipython3",
   "version": "3.9.0"
  }
 },
 "nbformat": 4,
 "nbformat_minor": 1
}
